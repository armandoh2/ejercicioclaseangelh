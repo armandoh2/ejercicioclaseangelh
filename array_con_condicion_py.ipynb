{
  "nbformat": 4,
  "nbformat_minor": 0,
  "metadata": {
    "colab": {
      "name": "array con condicion.py",
      "provenance": [],
      "authorship_tag": "ABX9TyMnQfkyZZF4JKrBgQPDjlIt",
      "include_colab_link": true
    },
    "kernelspec": {
      "name": "python3",
      "display_name": "Python 3"
    },
    "language_info": {
      "name": "python"
    }
  },
  "cells": [
    {
      "cell_type": "markdown",
      "metadata": {
        "id": "view-in-github",
        "colab_type": "text"
      },
      "source": [
        "<a href=\"https://colab.research.google.com/github/armandoh2/ejercicioclaseangelh/blob/main/array_con_condicion_py.ipynb\" target=\"_parent\"><img src=\"https://colab.research.google.com/assets/colab-badge.svg\" alt=\"Open In Colab\"/></a>"
      ]
    },
    {
      "cell_type": "code",
      "metadata": {
        "colab": {
          "base_uri": "https://localhost:8080/"
        },
        "id": "z4YFQphNoRAf",
        "outputId": "f81790ce-3db1-4976-ef10-100454289a7d"
      },
      "source": [
        "import numpy as np\n",
        "a = np.array([[1, 2, 3],[4, 5, 6]])\n",
        "print(a[(a % 2 == 0)])\n",
        "print(a[(a % 2 == 0) & (a > 2)])\n"
      ],
      "execution_count": 5,
      "outputs": [
        {
          "output_type": "stream",
          "text": [
            "[2 4 6]\n",
            "[4 6]\n"
          ],
          "name": "stdout"
        }
      ]
    }
  ]
}