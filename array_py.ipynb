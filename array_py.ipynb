{
  "nbformat": 4,
  "nbformat_minor": 0,
  "metadata": {
    "colab": {
      "name": "array.py",
      "provenance": [],
      "authorship_tag": "ABX9TyP8N+PEu0AOZngBw01NMILS",
      "include_colab_link": true
    },
    "kernelspec": {
      "name": "python3",
      "display_name": "Python 3"
    },
    "language_info": {
      "name": "python"
    }
  },
  "cells": [
    {
      "cell_type": "markdown",
      "metadata": {
        "id": "view-in-github",
        "colab_type": "text"
      },
      "source": [
        "<a href=\"https://colab.research.google.com/github/armandoh2/ejercicioclaseangelh/blob/main/array_py.ipynb\" target=\"_parent\"><img src=\"https://colab.research.google.com/assets/colab-badge.svg\" alt=\"Open In Colab\"/></a>"
      ]
    },
    {
      "cell_type": "code",
      "metadata": {
        "colab": {
          "base_uri": "https://localhost:8080/"
        },
        "id": "AS_E_fSxgW_m",
        "outputId": "29b032a1-acf3-40d6-8e03-7ed570622719"
      },
      "source": [
        " import numpy as np\n",
        " a = np.array([[1,2,3],[4,5,6]])\n",
        " print(a[1,0]) # Acceso al elemento de la fila 1 columna 0\n",
        " 4\n",
        " print(a[1][0]) # Otra forma de acceder al mismo elemento\n",
        " 4\n",
        " print(a[:,0:2])\n"
      ],
      "execution_count": 6,
      "outputs": [
        {
          "output_type": "stream",
          "text": [
            "4\n",
            "4\n",
            "[[1 2]\n",
            " [4 5]]\n"
          ],
          "name": "stdout"
        }
      ]
    }
  ]
}