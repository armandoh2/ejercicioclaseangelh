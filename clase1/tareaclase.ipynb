{
  "nbformat": 4,
  "nbformat_minor": 0,
  "metadata": {
    "colab": {
      "name": "Untitled0.ipynb",
      "provenance": [],
      "authorship_tag": "ABX9TyO0ofor7kJyQ8KcY4k5SbTH",
      "include_colab_link": true
    },
    "kernelspec": {
      "name": "python3",
      "display_name": "Python 3"
    },
    "language_info": {
      "name": "python"
    }
  },
  "cells": [
    {
      "cell_type": "markdown",
      "metadata": {
        "id": "view-in-github",
        "colab_type": "text"
      },
      "source": [
        "<a href=\"https://colab.research.google.com/github/armandoh2/ejercicioclaseangelh/blob/main/clase1/tareaclase.ipynb\" target=\"_parent\"><img src=\"https://colab.research.google.com/assets/colab-badge.svg\" alt=\"Open In Colab\"/></a>"
      ]
    },
    {
      "cell_type": "code",
      "metadata": {
        "id": "WplN5voA4mmW"
      },
      "source": [
        "#Declaracion de funciones\n",
        "\n",
        "#Funcion sin parametros\n",
        "\n",
        "def funcion1 ():\n",
        "\tprint('Has llamado a la funcion 1')\n",
        "\n",
        "#Funcion con parametros y retorno\n",
        "\n",
        "def funcion2(a,b):\n",
        "\t#contenido de la funcion\n",
        "\tc=int(a)+int(b)\n",
        "\treturn c\n",
        "  "
      ],
      "execution_count": 3,
      "outputs": []
    },
    {
      "cell_type": "code",
      "metadata": {
        "colab": {
          "base_uri": "https://localhost:8080/"
        },
        "id": "_SsmxdDv4xYv",
        "outputId": "cbe0786a-4a88-4cd8-a371-05dfb1f692b2"
      },
      "source": [
        "#Llamamos las funciones declaradas en otro archivo\n",
        "#from FuncionesExternas import *\n",
        "\n",
        "#Invocamos las funciones\n",
        "funcion1()\n",
        "#Invovamos la otra funcion\n",
        "Q=input('introduzca un dato: ')\n",
        "W=input('Introduzca otro dato: ')\n",
        "print('La sumatoria de los dos datos es: ')\n",
        "print(funcion2(Q,W))"
      ],
      "execution_count": 4,
      "outputs": [
        {
          "output_type": "stream",
          "text": [
            "Has llamado a la funcion 1\n",
            "introduzca un dato: 6\n",
            "Introduzca otro dato: 9\n",
            "La sumatoria de los dos datos es: \n",
            "15\n"
          ],
          "name": "stdout"
        }
      ]
    }
  ]
}