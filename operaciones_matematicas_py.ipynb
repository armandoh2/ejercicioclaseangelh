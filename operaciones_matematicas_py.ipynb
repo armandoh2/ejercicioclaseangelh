{
  "nbformat": 4,
  "nbformat_minor": 0,
  "metadata": {
    "colab": {
      "name": "operaciones matematicas.py",
      "provenance": [],
      "authorship_tag": "ABX9TyMKcWeMLDi1W8PntkPgzB9U",
      "include_colab_link": true
    },
    "kernelspec": {
      "name": "python3",
      "display_name": "Python 3"
    },
    "language_info": {
      "name": "python"
    }
  },
  "cells": [
    {
      "cell_type": "markdown",
      "metadata": {
        "id": "view-in-github",
        "colab_type": "text"
      },
      "source": [
        "<a href=\"https://colab.research.google.com/github/armandoh2/ejercicioclaseangelh/blob/main/operaciones_matematicas_py.ipynb\" target=\"_parent\"><img src=\"https://colab.research.google.com/assets/colab-badge.svg\" alt=\"Open In Colab\"/></a>"
      ]
    },
    {
      "cell_type": "code",
      "metadata": {
        "colab": {
          "base_uri": "https://localhost:8080/"
        },
        "id": "z4YFQphNoRAf",
        "outputId": "56cc29d7-9019-4c8e-d28b-cfbeb667565f"
      },
      "source": [
        "import numpy as np\n",
        "## ejercicio 3 operaciones matematicas\n",
        "a = np.array([[1, 2, 3], [4, 5, 6]])\n",
        "b = np.array([[1, 1, 1], [2, 2, 2]])\n",
        "print(a + b )\n",
        "\n",
        "print(a / b)\n",
        "\n",
        "print(a ** 2)\n",
        "\n",
        "\n",
        "\n"
      ],
      "execution_count": 8,
      "outputs": [
        {
          "output_type": "stream",
          "text": [
            "[[2 3 4]\n",
            " [6 7 8]]\n",
            "[[1.  2.  3. ]\n",
            " [2.  2.5 3. ]]\n",
            "[[ 1  4  9]\n",
            " [16 25 36]]\n"
          ],
          "name": "stdout"
        }
      ]
    }
  ]
}